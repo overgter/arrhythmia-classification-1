{
 "cells": [
  {
   "cell_type": "code",
   "execution_count": 2,
   "metadata": {},
   "outputs": [],
   "source": [
    "import scipy.io\n",
    "from sklearn.neural_network import MLPClassifier\n",
    "from sklearn.model_selection import train_test_split, cross_val_score\n",
    "from sklearn.preprocessing import StandardScaler\n",
    "from sklearn.metrics import classification_report"
   ]
  },
  {
   "cell_type": "code",
   "execution_count": 5,
   "metadata": {},
   "outputs": [
    {
     "data": {
      "text/plain": [
       "(202872, 39)"
      ]
     },
     "metadata": {},
     "output_type": "display_data"
    },
    {
     "data": {
      "text/plain": [
       "(202872, 1)"
      ]
     },
     "metadata": {},
     "output_type": "display_data"
    },
    {
     "data": {
      "text/plain": [
       "array([[  4.99999279e-01,   4.01460165e-11,  -5.85559490e-01,\n",
       "          1.99578920e+00,   4.99991360e-01,   2.23689303e-11,\n",
       "         -3.02715197e-01,   1.94731820e+00,   4.99987938e-01,\n",
       "          9.11471763e-11,  -1.14210203e+00,   3.49868742e+00,\n",
       "          5.00152425e-01,   5.03794065e-08,   4.70844177e-01,\n",
       "          1.54520562e+00,   5.00037109e-01,   2.29534674e-08,\n",
       "          1.00564678e+00,   3.52615827e+00,   4.99990637e-01,\n",
       "          4.34681742e-10,  -7.08452584e-02,   2.01505767e+00,\n",
       "          4.99996842e-01,   8.60925046e-11,  -1.39052331e-02,\n",
       "          1.98648597e+00,   4.99993991e-01,   4.89150270e-12,\n",
       "         -2.53715346e-01,   2.30793243e+00,   5.00496861e-01,\n",
       "          4.99849591e-01,   3.20023948e+01,   7.30000000e+01,\n",
       "          2.93000000e+02,   7.30000000e+01,   7.30000000e+01],\n",
       "       [  5.00035996e-01,   3.39216756e-11,   4.12687962e-01,\n",
       "          1.86671444e+00,   4.99991577e-01,   1.16691048e-10,\n",
       "          1.53923609e+00,   4.36272297e+00,   4.99987306e-01,\n",
       "          7.47756036e-11,  -8.01597717e-01,   2.94739562e+00,\n",
       "          5.00199354e-01,   7.03480493e-08,   4.42573829e-01,\n",
       "          1.53481986e+00,   5.00069784e-01,   3.75197906e-08,\n",
       "          1.19906060e+00,   3.39605131e+00,   4.99989607e-01,\n",
       "          1.63169405e-10,   5.41998371e-02,   2.01264445e+00,\n",
       "          4.99991204e-01,   4.39992740e-11,   5.27387180e-01,\n",
       "          2.14065940e+00,   4.99992531e-01,   1.10622213e-11,\n",
       "         -8.05992170e-01,   2.66764826e+00,   5.00602160e-01,\n",
       "          4.99867373e-01,   3.20041201e+01,   2.93000000e+02,\n",
       "          2.93000000e+02,   1.46333333e+02,   1.46333333e+02]])"
      ]
     },
     "metadata": {},
     "output_type": "display_data"
    },
    {
     "data": {
      "text/plain": [
       "array([[1],\n",
       "       [1]], dtype=uint8)"
      ]
     },
     "metadata": {},
     "output_type": "display_data"
    }
   ],
   "source": [
    "data = scipy.io.loadmat('mitdb_dataset_interv8.mat')\n",
    "X, y = data['samples'].T, data['labels']\n",
    "display(X.shape)\n",
    "display(y.shape)\n",
    "display(X[0:2,:])\n",
    "display(y[0:2])\n"
   ]
  },
  {
   "cell_type": "code",
   "execution_count": 6,
   "metadata": {},
   "outputs": [
    {
     "name": "stdout",
     "output_type": "stream",
     "text": [
      "Training with 152154 data samples\n",
      "Testing with 50718 data samples\n"
     ]
    }
   ],
   "source": [
    "[X_train, X_test, y_train, y_test] = train_test_split(X, y, test_size=0.25)\n",
    "\n",
    "print(f\"Training with {X_train.shape[0]} data samples\")\n",
    "print(f\"Testing with {X_test.shape[0]} data samples\")"
   ]
  },
  {
   "cell_type": "code",
   "execution_count": 7,
   "metadata": {},
   "outputs": [],
   "source": [
    "scaler = StandardScaler().fit(X_train)\n",
    "X_train_scaled = scaler.transform(X_train)"
   ]
  },
  {
   "cell_type": "code",
   "execution_count": 11,
   "metadata": {},
   "outputs": [
    {
     "name": "stdout",
     "output_type": "stream",
     "text": [
      "CPU times: user 28.3 s, sys: 387 ms, total: 28.7 s\n",
      "Wall time: 28.4 s\n",
      "Accuracy: 0.98 +/- 0.0012\n"
     ]
    }
   ],
   "source": [
    "clf = MLPClassifier(activation='logistic', alpha=1e-3, hidden_layer_sizes=(20,10), max_iter=1000)\n",
    "%time scores = cross_val_score(clf, X_train_scaled, y_train.ravel(), cv=5)\n",
    "clf.fit(X_train_scaled, y_train.ravel())\n",
    "print(f\"Accuracy: {scores.mean():0.2} +/- {scores.std()*2:0.2}\")"
   ]
  },
  {
   "cell_type": "code",
   "execution_count": 9,
   "metadata": {},
   "outputs": [
    {
     "name": "stdout",
     "output_type": "stream",
     "text": [
      "             precision    recall  f1-score   support\n",
      "\n",
      "          1       0.99      0.99      0.99     45124\n",
      "          2       0.95      0.90      0.93      5594\n",
      "\n",
      "avg / total       0.98      0.98      0.98     50718\n",
      "\n"
     ]
    }
   ],
   "source": [
    "X_test_scaled = scaler.transform(X_test)\n",
    "print(classification_report(y_test, clf.predict(X_test_scaled)))"
   ]
  }
 ],
 "metadata": {
  "kernelspec": {
   "display_name": "Python 3",
   "language": "python",
   "name": "python3"
  },
  "language_info": {
   "codemirror_mode": {
    "name": "ipython",
    "version": 3
   },
   "file_extension": ".py",
   "mimetype": "text/x-python",
   "name": "python",
   "nbconvert_exporter": "python",
   "pygments_lexer": "ipython3",
   "version": "3.6.4"
  }
 },
 "nbformat": 4,
 "nbformat_minor": 2
}
