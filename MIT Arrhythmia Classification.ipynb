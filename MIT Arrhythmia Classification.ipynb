{
 "cells": [
  {
   "cell_type": "code",
   "execution_count": 25,
   "metadata": {},
   "outputs": [],
   "source": [
    "import scipy.io\n",
    "from sklearn.neural_network import MLPClassifier\n",
    "from sklearn.model_selection import train_test_split, cross_val_score\n",
    "from sklearn.preprocessing import StandardScaler\n",
    "from sklearn.metrics import classification_report, accuracy_score, roc_curve"
   ]
  },
  {
   "cell_type": "code",
   "execution_count": 36,
   "metadata": {},
   "outputs": [
    {
     "data": {
      "text/plain": [
       "(4140, 39)"
      ]
     },
     "metadata": {},
     "output_type": "display_data"
    },
    {
     "data": {
      "text/plain": [
       "(4140, 1)"
      ]
     },
     "metadata": {},
     "output_type": "display_data"
    }
   ],
   "source": [
    "data = scipy.io.loadmat('mitdb_dataset_interv8_max_per_class500')\n",
    "X, y = data['samples'].T, data['labels']\n",
    "display(X.shape)\n",
    "display(y.shape)\n"
   ]
  },
  {
   "cell_type": "code",
   "execution_count": 37,
   "metadata": {},
   "outputs": [
    {
     "name": "stdout",
     "output_type": "stream",
     "text": [
      "Training with 3105 data samples\n",
      "Testing with 1035 data samples\n"
     ]
    }
   ],
   "source": [
    "[X_train, X_test, y_train, y_test] = train_test_split(X, y, test_size=0.25)\n",
    "\n",
    "print(f\"Training with {X_train.shape[0]} data samples\")\n",
    "print(f\"Testing with {X_test.shape[0]} data samples\")"
   ]
  },
  {
   "cell_type": "code",
   "execution_count": 38,
   "metadata": {},
   "outputs": [],
   "source": [
    "scaler = StandardScaler().fit(X_train)\n",
    "X_train_scaled = scaler.transform(X_train)"
   ]
  },
  {
   "cell_type": "code",
   "execution_count": 52,
   "metadata": {},
   "outputs": [
    {
     "data": {
      "text/plain": [
       "MLPClassifier(activation='relu', alpha=0.01, batch_size='auto', beta_1=0.9,\n",
       "       beta_2=0.999, early_stopping=True, epsilon=1e-08,\n",
       "       hidden_layer_sizes=(10,), learning_rate='constant',\n",
       "       learning_rate_init=0.001, max_iter=300, momentum=0.9,\n",
       "       nesterovs_momentum=True, power_t=0.5, random_state=None,\n",
       "       shuffle=True, solver='adam', tol=0.0001, validation_fraction=0.1,\n",
       "       verbose=False, warm_start=False)"
      ]
     },
     "execution_count": 52,
     "metadata": {},
     "output_type": "execute_result"
    }
   ],
   "source": [
    "clf = MLPClassifier(activation='relu', alpha=0.01, hidden_layer_sizes=(10,), max_iter=300, early_stopping=True)\n",
    "clf.fit(X_train_scaled, y_train.ravel())"
   ]
  },
  {
   "cell_type": "code",
   "execution_count": 53,
   "metadata": {},
   "outputs": [
    {
     "name": "stdout",
     "output_type": "stream",
     "text": [
      "             precision    recall  f1-score   support\n",
      "\n",
      "          1       0.89      0.98      0.94       126\n",
      "          2       0.99      1.00      1.00       117\n",
      "          3       0.93      0.98      0.95       141\n",
      "          4       0.63      0.66      0.65       138\n",
      "          5       0.45      0.31      0.37        70\n",
      "          6       0.48      0.21      0.29        48\n",
      "          9       0.75      0.92      0.83       117\n",
      "         10       0.84      0.83      0.84       108\n",
      "         11       0.98      0.96      0.97        54\n",
      "         12       0.72      0.69      0.70       116\n",
      "\n",
      "avg / total       0.79      0.80      0.79      1035\n",
      "\n",
      "accuracy =  80.39%\n"
     ]
    }
   ],
   "source": [
    "X_test_scaled = scaler.transform(X_test)\n",
    "y_predict = clf.predict(X_test_scaled)\n",
    "print(classification_report(y_test.ravel(), y_predict))\n",
    "print(f'accuracy = {accuracy_score(y_test.ravel(), y_predict) * 100 : .4}%')"
   ]
  }
 ],
 "metadata": {
  "kernelspec": {
   "display_name": "Python 3",
   "language": "python",
   "name": "python3"
  },
  "language_info": {
   "codemirror_mode": {
    "name": "ipython",
    "version": 3
   },
   "file_extension": ".py",
   "mimetype": "text/x-python",
   "name": "python",
   "nbconvert_exporter": "python",
   "pygments_lexer": "ipython3",
   "version": "3.7.0b3"
  }
 },
 "nbformat": 4,
 "nbformat_minor": 2
}
